{
  "nbformat": 4,
  "nbformat_minor": 0,
  "metadata": {
    "colab": {
      "name": "Diversify",
      "provenance": [],
      "collapsed_sections": []
    },
    "kernelspec": {
      "name": "python3",
      "display_name": "Python 3"
    }
  },
  "cells": [
    {
      "cell_type": "code",
      "metadata": {
        "id": "kem2TpZSoR7u"
      },
      "source": [
        "from pandas_datareader import data as web\n",
        "import numpy as np\n",
        "import pandas as pd\n",
        "from datetime import datetime\n",
        "import matplotlib.pyplot as plt\n",
        "plt.style.use('fivethirtyeight')"
      ],
      "execution_count": null,
      "outputs": []
    },
    {
      "cell_type": "code",
      "metadata": {
        "id": "AUNi-IWKP5wM"
      },
      "source": [
        "assets=['ITC.NS','ONGC.NS','ADANIPOWER.NS','INFY.NS','SBIN.NS']\n",
        "#assets=['ITC.NS','ONGC.NS','ADANIPOWER.NS','ADANIPOWER.NS',]"
      ],
      "execution_count": null,
      "outputs": []
    },
    {
      "cell_type": "code",
      "metadata": {
        "id": "3qCzCrP0QwKB"
      },
      "source": [
        "weights=np.array([0.2,0.2,0.2,0.2,0.2])"
      ],
      "execution_count": null,
      "outputs": []
    },
    {
      "cell_type": "code",
      "metadata": {
        "id": "DLryyOOYRjj1"
      },
      "source": [
        "stockstart='2020-11-01'"
      ],
      "execution_count": null,
      "outputs": []
    },
    {
      "cell_type": "code",
      "metadata": {
        "id": "e_17GoPuR6oc"
      },
      "source": [
        "today=datetime.today().strftime('%Y-%m-%d')"
      ],
      "execution_count": null,
      "outputs": []
    },
    {
      "cell_type": "code",
      "metadata": {
        "id": "6nUYNiKEVYPz"
      },
      "source": [
        "df = pd.DataFrame()"
      ],
      "execution_count": null,
      "outputs": []
    },
    {
      "cell_type": "code",
      "metadata": {
        "id": "hurYePKrWWrg"
      },
      "source": [
        "for stock in assets:\n",
        "  df[stock]=web.DataReader(stock, data_source='yahoo',start=stockstart, end=today)['Adj Close']"
      ],
      "execution_count": null,
      "outputs": []
    },
    {
      "cell_type": "code",
      "metadata": {
        "colab": {
          "base_uri": "https://localhost:8080/",
          "height": 754
        },
        "id": "vIBU5xn_Xth1",
        "outputId": "d273172d-8b70-464d-adf8-961a1f5bb02e"
      },
      "source": [
        "df"
      ],
      "execution_count": null,
      "outputs": [
        {
          "output_type": "execute_result",
          "data": {
            "text/html": [
              "<div>\n",
              "<style scoped>\n",
              "    .dataframe tbody tr th:only-of-type {\n",
              "        vertical-align: middle;\n",
              "    }\n",
              "\n",
              "    .dataframe tbody tr th {\n",
              "        vertical-align: top;\n",
              "    }\n",
              "\n",
              "    .dataframe thead th {\n",
              "        text-align: right;\n",
              "    }\n",
              "</style>\n",
              "<table border=\"1\" class=\"dataframe\">\n",
              "  <thead>\n",
              "    <tr style=\"text-align: right;\">\n",
              "      <th></th>\n",
              "      <th>ITC.NS</th>\n",
              "      <th>ONGC.NS</th>\n",
              "      <th>ADANIPOWER.NS</th>\n",
              "      <th>INFY.NS</th>\n",
              "      <th>SBIN.NS</th>\n",
              "    </tr>\n",
              "    <tr>\n",
              "      <th>Date</th>\n",
              "      <th></th>\n",
              "      <th></th>\n",
              "      <th></th>\n",
              "      <th></th>\n",
              "      <th></th>\n",
              "    </tr>\n",
              "  </thead>\n",
              "  <tbody>\n",
              "    <tr>\n",
              "      <th>2020-11-02</th>\n",
              "      <td>166.750000</td>\n",
              "      <td>65.699997</td>\n",
              "      <td>35.950001</td>\n",
              "      <td>1072.300049</td>\n",
              "      <td>196.050003</td>\n",
              "    </tr>\n",
              "    <tr>\n",
              "      <th>2020-11-03</th>\n",
              "      <td>170.100006</td>\n",
              "      <td>66.300003</td>\n",
              "      <td>36.049999</td>\n",
              "      <td>1062.550049</td>\n",
              "      <td>204.750000</td>\n",
              "    </tr>\n",
              "    <tr>\n",
              "      <th>2020-11-04</th>\n",
              "      <td>169.800003</td>\n",
              "      <td>66.449997</td>\n",
              "      <td>36.150002</td>\n",
              "      <td>1093.949951</td>\n",
              "      <td>207.000000</td>\n",
              "    </tr>\n",
              "    <tr>\n",
              "      <th>2020-11-05</th>\n",
              "      <td>174.750000</td>\n",
              "      <td>67.599998</td>\n",
              "      <td>36.400002</td>\n",
              "      <td>1104.000000</td>\n",
              "      <td>218.649994</td>\n",
              "    </tr>\n",
              "    <tr>\n",
              "      <th>2020-11-06</th>\n",
              "      <td>173.949997</td>\n",
              "      <td>68.000000</td>\n",
              "      <td>37.700001</td>\n",
              "      <td>1112.750000</td>\n",
              "      <td>219.199997</td>\n",
              "    </tr>\n",
              "    <tr>\n",
              "      <th>2020-11-09</th>\n",
              "      <td>172.800003</td>\n",
              "      <td>68.449997</td>\n",
              "      <td>37.049999</td>\n",
              "      <td>1136.550049</td>\n",
              "      <td>219.500000</td>\n",
              "    </tr>\n",
              "    <tr>\n",
              "      <th>2020-11-10</th>\n",
              "      <td>178.350006</td>\n",
              "      <td>70.750000</td>\n",
              "      <td>36.349998</td>\n",
              "      <td>1091.050049</td>\n",
              "      <td>231.699997</td>\n",
              "    </tr>\n",
              "    <tr>\n",
              "      <th>2020-11-11</th>\n",
              "      <td>185.300003</td>\n",
              "      <td>72.349998</td>\n",
              "      <td>36.450001</td>\n",
              "      <td>1122.500000</td>\n",
              "      <td>234.199997</td>\n",
              "    </tr>\n",
              "    <tr>\n",
              "      <th>2020-11-12</th>\n",
              "      <td>188.000000</td>\n",
              "      <td>71.550003</td>\n",
              "      <td>36.049999</td>\n",
              "      <td>1117.750000</td>\n",
              "      <td>226.800003</td>\n",
              "    </tr>\n",
              "    <tr>\n",
              "      <th>2020-11-13</th>\n",
              "      <td>187.100006</td>\n",
              "      <td>72.150002</td>\n",
              "      <td>36.150002</td>\n",
              "      <td>1124.199951</td>\n",
              "      <td>229.449997</td>\n",
              "    </tr>\n",
              "    <tr>\n",
              "      <th>2020-11-17</th>\n",
              "      <td>187.350006</td>\n",
              "      <td>71.300003</td>\n",
              "      <td>37.500000</td>\n",
              "      <td>1123.699951</td>\n",
              "      <td>240.199997</td>\n",
              "    </tr>\n",
              "    <tr>\n",
              "      <th>2020-11-18</th>\n",
              "      <td>184.050003</td>\n",
              "      <td>71.949997</td>\n",
              "      <td>39.400002</td>\n",
              "      <td>1110.550049</td>\n",
              "      <td>252.000000</td>\n",
              "    </tr>\n",
              "    <tr>\n",
              "      <th>2020-11-19</th>\n",
              "      <td>187.899994</td>\n",
              "      <td>72.150002</td>\n",
              "      <td>38.299999</td>\n",
              "      <td>1096.750000</td>\n",
              "      <td>239.750000</td>\n",
              "    </tr>\n",
              "    <tr>\n",
              "      <th>2020-11-20</th>\n",
              "      <td>191.699997</td>\n",
              "      <td>71.650002</td>\n",
              "      <td>38.000000</td>\n",
              "      <td>1103.349976</td>\n",
              "      <td>242.750000</td>\n",
              "    </tr>\n",
              "    <tr>\n",
              "      <th>2020-11-23</th>\n",
              "      <td>190.850006</td>\n",
              "      <td>76.500000</td>\n",
              "      <td>38.400002</td>\n",
              "      <td>1139.849976</td>\n",
              "      <td>238.699997</td>\n",
              "    </tr>\n",
              "    <tr>\n",
              "      <th>2020-11-24</th>\n",
              "      <td>195.550003</td>\n",
              "      <td>76.099998</td>\n",
              "      <td>38.700001</td>\n",
              "      <td>1140.050049</td>\n",
              "      <td>243.850006</td>\n",
              "    </tr>\n",
              "    <tr>\n",
              "      <th>2020-11-25</th>\n",
              "      <td>193.850006</td>\n",
              "      <td>80.800003</td>\n",
              "      <td>38.250000</td>\n",
              "      <td>1115.650024</td>\n",
              "      <td>243.000000</td>\n",
              "    </tr>\n",
              "    <tr>\n",
              "      <th>2020-11-26</th>\n",
              "      <td>194.800003</td>\n",
              "      <td>80.199997</td>\n",
              "      <td>38.250000</td>\n",
              "      <td>1113.199951</td>\n",
              "      <td>245.449997</td>\n",
              "    </tr>\n",
              "    <tr>\n",
              "      <th>2020-11-27</th>\n",
              "      <td>193.649994</td>\n",
              "      <td>78.500000</td>\n",
              "      <td>38.500000</td>\n",
              "      <td>1100.000000</td>\n",
              "      <td>244.250000</td>\n",
              "    </tr>\n",
              "    <tr>\n",
              "      <th>2020-12-01</th>\n",
              "      <td>194.399994</td>\n",
              "      <td>81.550003</td>\n",
              "      <td>41.049999</td>\n",
              "      <td>1137.849976</td>\n",
              "      <td>248.050003</td>\n",
              "    </tr>\n",
              "    <tr>\n",
              "      <th>2020-12-02</th>\n",
              "      <td>195.949997</td>\n",
              "      <td>84.849998</td>\n",
              "      <td>45.150002</td>\n",
              "      <td>1140.900024</td>\n",
              "      <td>246.949997</td>\n",
              "    </tr>\n",
              "    <tr>\n",
              "      <th>2020-12-03</th>\n",
              "      <td>196.199997</td>\n",
              "      <td>88.699997</td>\n",
              "      <td>54.150002</td>\n",
              "      <td>1126.449951</td>\n",
              "      <td>256.299988</td>\n",
              "    </tr>\n",
              "  </tbody>\n",
              "</table>\n",
              "</div>"
            ],
            "text/plain": [
              "                ITC.NS    ONGC.NS  ADANIPOWER.NS      INFY.NS     SBIN.NS\n",
              "Date                                                                     \n",
              "2020-11-02  166.750000  65.699997      35.950001  1072.300049  196.050003\n",
              "2020-11-03  170.100006  66.300003      36.049999  1062.550049  204.750000\n",
              "2020-11-04  169.800003  66.449997      36.150002  1093.949951  207.000000\n",
              "2020-11-05  174.750000  67.599998      36.400002  1104.000000  218.649994\n",
              "2020-11-06  173.949997  68.000000      37.700001  1112.750000  219.199997\n",
              "2020-11-09  172.800003  68.449997      37.049999  1136.550049  219.500000\n",
              "2020-11-10  178.350006  70.750000      36.349998  1091.050049  231.699997\n",
              "2020-11-11  185.300003  72.349998      36.450001  1122.500000  234.199997\n",
              "2020-11-12  188.000000  71.550003      36.049999  1117.750000  226.800003\n",
              "2020-11-13  187.100006  72.150002      36.150002  1124.199951  229.449997\n",
              "2020-11-17  187.350006  71.300003      37.500000  1123.699951  240.199997\n",
              "2020-11-18  184.050003  71.949997      39.400002  1110.550049  252.000000\n",
              "2020-11-19  187.899994  72.150002      38.299999  1096.750000  239.750000\n",
              "2020-11-20  191.699997  71.650002      38.000000  1103.349976  242.750000\n",
              "2020-11-23  190.850006  76.500000      38.400002  1139.849976  238.699997\n",
              "2020-11-24  195.550003  76.099998      38.700001  1140.050049  243.850006\n",
              "2020-11-25  193.850006  80.800003      38.250000  1115.650024  243.000000\n",
              "2020-11-26  194.800003  80.199997      38.250000  1113.199951  245.449997\n",
              "2020-11-27  193.649994  78.500000      38.500000  1100.000000  244.250000\n",
              "2020-12-01  194.399994  81.550003      41.049999  1137.849976  248.050003\n",
              "2020-12-02  195.949997  84.849998      45.150002  1140.900024  246.949997\n",
              "2020-12-03  196.199997  88.699997      54.150002  1126.449951  256.299988"
            ]
          },
          "metadata": {
            "tags": []
          },
          "execution_count": 21
        }
      ]
    },
    {
      "cell_type": "code",
      "metadata": {
        "colab": {
          "base_uri": "https://localhost:8080/",
          "height": 325
        },
        "id": "YopVaeAFX16N",
        "outputId": "23c0b209-7446-4a0e-d176-75cfd8a6d7ae"
      },
      "source": [
        "title= 'Portfolio Close Price'\n",
        "\n",
        "my_stocks=df\n",
        "\n",
        "for c in my_stocks.columns.values:\n",
        "  plt.plot(my_stocks[c],label=c)\n",
        "\n",
        "plt.title(title)\n",
        "plt.xlabel('Date',fontsize=18)\n",
        "plt.ylabel('Adj Price',fontsize=18)\n",
        "plt.legend(my_stocks.columns.values ,loc='upper left')\n",
        "plt.show()"
      ],
      "execution_count": null,
      "outputs": [
        {
          "output_type": "display_data",
          "data": {
            "image/png": "[encoded data removed]",
            "text/plain": [
              "<Figure size 432x288 with 1 Axes>"
            ]
          },
          "metadata": {
            "tags": []
          }
        }
      ]
    },
    {
      "cell_type": "code",
      "metadata": {
        "colab": {
          "base_uri": "https://localhost:8080/",
          "height": 754
        },
        "id": "1-bjKpJYDbBL",
        "outputId": "a82bcc10-f5d9-497a-a154-4772803c3450"
      },
      "source": [
        "returns=df.pct_change()\n",
        "returns*100"
      ],
      "execution_count": null,
      "outputs": [
        {
          "output_type": "execute_result",
          "data": {
            "text/html": [
              "<div>\n",
              "<style scoped>\n",
              "    .dataframe tbody tr th:only-of-type {\n",
              "        vertical-align: middle;\n",
              "    }\n",
              "\n",
              "    .dataframe tbody tr th {\n",
              "        vertical-align: top;\n",
              "    }\n",
              "\n",
              "    .dataframe thead th {\n",
              "        text-align: right;\n",
              "    }\n",
              "</style>\n",
              "<table border=\"1\" class=\"dataframe\">\n",
              "  <thead>\n",
              "    <tr style=\"text-align: right;\">\n",
              "      <th></th>\n",
              "      <th>ITC.NS</th>\n",
              "      <th>ONGC.NS</th>\n",
              "      <th>ADANIPOWER.NS</th>\n",
              "      <th>INFY.NS</th>\n",
              "      <th>SBIN.NS</th>\n",
              "    </tr>\n",
              "    <tr>\n",
              "      <th>Date</th>\n",
              "      <th></th>\n",
              "      <th></th>\n",
              "      <th></th>\n",
              "      <th></th>\n",
              "      <th></th>\n",
              "    </tr>\n",
              "  </thead>\n",
              "  <tbody>\n",
              "    <tr>\n",
              "      <th>2020-11-02</th>\n",
              "      <td>NaN</td>\n",
              "      <td>NaN</td>\n",
              "      <td>NaN</td>\n",
              "      <td>NaN</td>\n",
              "      <td>NaN</td>\n",
              "    </tr>\n",
              "    <tr>\n",
              "      <th>2020-11-03</th>\n",
              "      <td>2.008999</td>\n",
              "      <td>0.913251</td>\n",
              "      <td>0.278160</td>\n",
              "      <td>-0.909260</td>\n",
              "      <td>4.437642</td>\n",
              "    </tr>\n",
              "    <tr>\n",
              "      <th>2020-11-04</th>\n",
              "      <td>-0.176369</td>\n",
              "      <td>0.226235</td>\n",
              "      <td>0.277399</td>\n",
              "      <td>2.955146</td>\n",
              "      <td>1.098901</td>\n",
              "    </tr>\n",
              "    <tr>\n",
              "      <th>2020-11-05</th>\n",
              "      <td>2.915192</td>\n",
              "      <td>1.730627</td>\n",
              "      <td>0.691563</td>\n",
              "      <td>0.918694</td>\n",
              "      <td>5.628016</td>\n",
              "    </tr>\n",
              "    <tr>\n",
              "      <th>2020-11-06</th>\n",
              "      <td>-0.457799</td>\n",
              "      <td>0.591718</td>\n",
              "      <td>3.571426</td>\n",
              "      <td>0.792572</td>\n",
              "      <td>0.251545</td>\n",
              "    </tr>\n",
              "    <tr>\n",
              "      <th>2020-11-09</th>\n",
              "      <td>-0.661106</td>\n",
              "      <td>0.661760</td>\n",
              "      <td>-1.724142</td>\n",
              "      <td>2.138850</td>\n",
              "      <td>0.136863</td>\n",
              "    </tr>\n",
              "    <tr>\n",
              "      <th>2020-11-10</th>\n",
              "      <td>3.211807</td>\n",
              "      <td>3.360121</td>\n",
              "      <td>-1.889341</td>\n",
              "      <td>-4.003343</td>\n",
              "      <td>5.558085</td>\n",
              "    </tr>\n",
              "    <tr>\n",
              "      <th>2020-11-11</th>\n",
              "      <td>3.896830</td>\n",
              "      <td>2.261482</td>\n",
              "      <td>0.275109</td>\n",
              "      <td>2.882540</td>\n",
              "      <td>1.078981</td>\n",
              "    </tr>\n",
              "    <tr>\n",
              "      <th>2020-11-12</th>\n",
              "      <td>1.457095</td>\n",
              "      <td>-1.105730</td>\n",
              "      <td>-1.097398</td>\n",
              "      <td>-0.423163</td>\n",
              "      <td>-3.159690</td>\n",
              "    </tr>\n",
              "    <tr>\n",
              "      <th>2020-11-13</th>\n",
              "      <td>-0.478720</td>\n",
              "      <td>0.838572</td>\n",
              "      <td>0.277399</td>\n",
              "      <td>0.577048</td>\n",
              "      <td>1.168428</td>\n",
              "    </tr>\n",
              "    <tr>\n",
              "      <th>2020-11-17</th>\n",
              "      <td>0.133618</td>\n",
              "      <td>-1.178099</td>\n",
              "      <td>3.734435</td>\n",
              "      <td>-0.044476</td>\n",
              "      <td>4.685117</td>\n",
              "    </tr>\n",
              "    <tr>\n",
              "      <th>2020-11-18</th>\n",
              "      <td>-1.761411</td>\n",
              "      <td>0.911632</td>\n",
              "      <td>5.066671</td>\n",
              "      <td>-1.170233</td>\n",
              "      <td>4.912574</td>\n",
              "    </tr>\n",
              "    <tr>\n",
              "      <th>2020-11-19</th>\n",
              "      <td>2.091818</td>\n",
              "      <td>0.277977</td>\n",
              "      <td>-2.791884</td>\n",
              "      <td>-1.242632</td>\n",
              "      <td>-4.861111</td>\n",
              "    </tr>\n",
              "    <tr>\n",
              "      <th>2020-11-20</th>\n",
              "      <td>2.022354</td>\n",
              "      <td>-0.693001</td>\n",
              "      <td>-0.783288</td>\n",
              "      <td>0.601776</td>\n",
              "      <td>1.251303</td>\n",
              "    </tr>\n",
              "    <tr>\n",
              "      <th>2020-11-23</th>\n",
              "      <td>-0.443396</td>\n",
              "      <td>6.769014</td>\n",
              "      <td>1.052636</td>\n",
              "      <td>3.308107</td>\n",
              "      <td>-1.668384</td>\n",
              "    </tr>\n",
              "    <tr>\n",
              "      <th>2020-11-24</th>\n",
              "      <td>2.462665</td>\n",
              "      <td>-0.522878</td>\n",
              "      <td>0.781248</td>\n",
              "      <td>0.017553</td>\n",
              "      <td>2.157524</td>\n",
              "    </tr>\n",
              "    <tr>\n",
              "      <th>2020-11-25</th>\n",
              "      <td>-0.869341</td>\n",
              "      <td>6.176090</td>\n",
              "      <td>-1.162793</td>\n",
              "      <td>-2.140259</td>\n",
              "      <td>-0.348577</td>\n",
              "    </tr>\n",
              "    <tr>\n",
              "      <th>2020-11-26</th>\n",
              "      <td>0.490068</td>\n",
              "      <td>-0.742582</td>\n",
              "      <td>0.000000</td>\n",
              "      <td>-0.219609</td>\n",
              "      <td>1.008229</td>\n",
              "    </tr>\n",
              "    <tr>\n",
              "      <th>2020-11-27</th>\n",
              "      <td>-0.590354</td>\n",
              "      <td>-2.119697</td>\n",
              "      <td>0.653595</td>\n",
              "      <td>-1.185766</td>\n",
              "      <td>-0.488897</td>\n",
              "    </tr>\n",
              "    <tr>\n",
              "      <th>2020-12-01</th>\n",
              "      <td>0.387297</td>\n",
              "      <td>3.885354</td>\n",
              "      <td>6.623375</td>\n",
              "      <td>3.440907</td>\n",
              "      <td>1.555784</td>\n",
              "    </tr>\n",
              "    <tr>\n",
              "      <th>2020-12-02</th>\n",
              "      <td>0.797327</td>\n",
              "      <td>4.046591</td>\n",
              "      <td>9.987825</td>\n",
              "      <td>0.268054</td>\n",
              "      <td>-0.443461</td>\n",
              "    </tr>\n",
              "    <tr>\n",
              "      <th>2020-12-03</th>\n",
              "      <td>0.127584</td>\n",
              "      <td>4.537417</td>\n",
              "      <td>19.933554</td>\n",
              "      <td>-1.266550</td>\n",
              "      <td>3.786188</td>\n",
              "    </tr>\n",
              "  </tbody>\n",
              "</table>\n",
              "</div>"
            ],
            "text/plain": [
              "              ITC.NS   ONGC.NS  ADANIPOWER.NS   INFY.NS   SBIN.NS\n",
              "Date                                                             \n",
              "2020-11-02       NaN       NaN            NaN       NaN       NaN\n",
              "2020-11-03  2.008999  0.913251       0.278160 -0.909260  4.437642\n",
              "2020-11-04 -0.176369  0.226235       0.277399  2.955146  1.098901\n",
              "2020-11-05  2.915192  1.730627       0.691563  0.918694  5.628016\n",
              "2020-11-06 -0.457799  0.591718       3.571426  0.792572  0.251545\n",
              "2020-11-09 -0.661106  0.661760      -1.724142  2.138850  0.136863\n",
              "2020-11-10  3.211807  3.360121      -1.889341 -4.003343  5.558085\n",
              "2020-11-11  3.896830  2.261482       0.275109  2.882540  1.078981\n",
              "2020-11-12  1.457095 -1.105730      -1.097398 -0.423163 -3.159690\n",
              "2020-11-13 -0.478720  0.838572       0.277399  0.577048  1.168428\n",
              "2020-11-17  0.133618 -1.178099       3.734435 -0.044476  4.685117\n",
              "2020-11-18 -1.761411  0.911632       5.066671 -1.170233  4.912574\n",
              "2020-11-19  2.091818  0.277977      -2.791884 -1.242632 -4.861111\n",
              "2020-11-20  2.022354 -0.693001      -0.783288  0.601776  1.251303\n",
              "2020-11-23 -0.443396  6.769014       1.052636  3.308107 -1.668384\n",
              "2020-11-24  2.462665 -0.522878       0.781248  0.017553  2.157524\n",
              "2020-11-25 -0.869341  6.176090      -1.162793 -2.140259 -0.348577\n",
              "2020-11-26  0.490068 -0.742582       0.000000 -0.219609  1.008229\n",
              "2020-11-27 -0.590354 -2.119697       0.653595 -1.185766 -0.488897\n",
              "2020-12-01  0.387297  3.885354       6.623375  3.440907  1.555784\n",
              "2020-12-02  0.797327  4.046591       9.987825  0.268054 -0.443461\n",
              "2020-12-03  0.127584  4.537417      19.933554 -1.266550  3.786188"
            ]
          },
          "metadata": {
            "tags": []
          },
          "execution_count": 23
        }
      ]
    },
    {
      "cell_type": "code",
      "metadata": {
        "colab": {
          "base_uri": "https://localhost:8080/",
          "height": 202
        },
        "id": "9DWNy01yHHJx",
        "outputId": "84e8390a-aa64-4112-f2be-02faf4aa189f"
      },
      "source": [
        "ca_matrix= returns.cov()*252\n",
        "ca_matrix"
      ],
      "execution_count": null,
      "outputs": [
        {
          "output_type": "execute_result",
          "data": {
            "text/html": [
              "<div>\n",
              "<style scoped>\n",
              "    .dataframe tbody tr th:only-of-type {\n",
              "        vertical-align: middle;\n",
              "    }\n",
              "\n",
              "    .dataframe tbody tr th {\n",
              "        vertical-align: top;\n",
              "    }\n",
              "\n",
              "    .dataframe thead th {\n",
              "        text-align: right;\n",
              "    }\n",
              "</style>\n",
              "<table border=\"1\" class=\"dataframe\">\n",
              "  <thead>\n",
              "    <tr style=\"text-align: right;\">\n",
              "      <th></th>\n",
              "      <th>ITC.NS</th>\n",
              "      <th>ONGC.NS</th>\n",
              "      <th>ADANIPOWER.NS</th>\n",
              "      <th>INFY.NS</th>\n",
              "      <th>SBIN.NS</th>\n",
              "    </tr>\n",
              "  </thead>\n",
              "  <tbody>\n",
              "    <tr>\n",
              "      <th>ITC.NS</th>\n",
              "      <td>0.060472</td>\n",
              "      <td>-0.008360</td>\n",
              "      <td>-0.050281</td>\n",
              "      <td>-0.006369</td>\n",
              "      <td>0.015292</td>\n",
              "    </tr>\n",
              "    <tr>\n",
              "      <th>ONGC.NS</th>\n",
              "      <td>-0.008360</td>\n",
              "      <td>0.153552</td>\n",
              "      <td>0.111775</td>\n",
              "      <td>0.010495</td>\n",
              "      <td>0.003814</td>\n",
              "    </tr>\n",
              "    <tr>\n",
              "      <th>ADANIPOWER.NS</th>\n",
              "      <td>-0.050281</td>\n",
              "      <td>0.111775</td>\n",
              "      <td>0.658493</td>\n",
              "      <td>0.000787</td>\n",
              "      <td>0.098548</td>\n",
              "    </tr>\n",
              "    <tr>\n",
              "      <th>INFY.NS</th>\n",
              "      <td>-0.006369</td>\n",
              "      <td>0.010495</td>\n",
              "      <td>0.000787</td>\n",
              "      <td>0.091843</td>\n",
              "      <td>-0.028165</td>\n",
              "    </tr>\n",
              "    <tr>\n",
              "      <th>SBIN.NS</th>\n",
              "      <td>0.015292</td>\n",
              "      <td>0.003814</td>\n",
              "      <td>0.098548</td>\n",
              "      <td>-0.028165</td>\n",
              "      <td>0.197131</td>\n",
              "    </tr>\n",
              "  </tbody>\n",
              "</table>\n",
              "</div>"
            ],
            "text/plain": [
              "                 ITC.NS   ONGC.NS  ADANIPOWER.NS   INFY.NS   SBIN.NS\n",
              "ITC.NS         0.060472 -0.008360      -0.050281 -0.006369  0.015292\n",
              "ONGC.NS       -0.008360  0.153552       0.111775  0.010495  0.003814\n",
              "ADANIPOWER.NS -0.050281  0.111775       0.658493  0.000787  0.098548\n",
              "INFY.NS       -0.006369  0.010495       0.000787  0.091843 -0.028165\n",
              "SBIN.NS        0.015292  0.003814       0.098548 -0.028165  0.197131"
            ]
          },
          "metadata": {
            "tags": []
          },
          "execution_count": 24
        }
      ]
    },
    {
      "cell_type": "code",
      "metadata": {
        "colab": {
          "base_uri": "https://localhost:8080/"
        },
        "id": "q1ncvf_VIfDO",
        "outputId": "063571a5-8ab0-46e3-bb35-b5a99814897f"
      },
      "source": [
        "var= np.dot(weights.T,np.dot(ca_matrix,weights))\n",
        "var"
      ],
      "execution_count": null,
      "outputs": [
        {
          "output_type": "execute_result",
          "data": {
            "text/plain": [
              "0.0582625522514089"
            ]
          },
          "metadata": {
            "tags": []
          },
          "execution_count": 25
        }
      ]
    },
    {
      "cell_type": "code",
      "metadata": {
        "colab": {
          "base_uri": "https://localhost:8080/"
        },
        "id": "MuevDE5KI5LX",
        "outputId": "5dc5b1a9-5315-4952-deb7-5a80d104cd26"
      },
      "source": [
        "#volatility - std dev\n",
        "sd=np.sqrt(var)\n",
        "sd"
      ],
      "execution_count": null,
      "outputs": [
        {
          "output_type": "execute_result",
          "data": {
            "text/plain": [
              "0.2413763705324299"
            ]
          },
          "metadata": {
            "tags": []
          },
          "execution_count": 26
        }
      ]
    },
    {
      "cell_type": "code",
      "metadata": {
        "colab": {
          "base_uri": "https://localhost:8080/"
        },
        "id": "SpptjbhhJRZy",
        "outputId": "95c76fa1-6e80-48d6-ee03-8c98f97a8cd1"
      },
      "source": [
        "# annual return portfolio\n",
        "annualret=np.sum(returns.mean()*weights)*252\n",
        "annualret"
      ],
      "execution_count": null,
      "outputs": [
        {
          "output_type": "execute_result",
          "data": {
            "text/plain": [
              "2.980477912003008"
            ]
          },
          "metadata": {
            "tags": []
          },
          "execution_count": 27
        }
      ]
    },
    {
      "cell_type": "code",
      "metadata": {
        "colab": {
          "base_uri": "https://localhost:8080/"
        },
        "id": "tA-xlntbIvlv",
        "outputId": "a7046c01-89e1-4ed0-d8dd-3d225a9a9272"
      },
      "source": [
        "p_var = str(round(var,2)*100)+'%'\n",
        "p_vols = str(round(sd,2)*100)+'%'\n",
        "p_annualret = str(round(annualret,2)*100)+'%'\n",
        "\n",
        "print('Expected annual return:'+ p_annualret)\n",
        "print('Annual volatility/risk:'+ p_vols)\n",
        "print('Annual variance:'+ p_var)"
      ],
      "execution_count": null,
      "outputs": [
        {
          "output_type": "stream",
          "text": [
            "Expected annual return:298.0%\n",
            "Annual volatility/risk:24.0%\n",
            "Annual variance:6.0%\n"
          ],
          "name": "stdout"
        }
      ]
    },
    {
      "cell_type": "code",
      "metadata": {
        "colab": {
          "base_uri": "https://localhost:8080/"
        },
        "id": "i9sZQxnHLiwk",
        "outputId": "fe5fbfab-db7e-428f-e0d5-1e4e460f579e"
      },
      "source": [
        "pip install PyPortfolioOpt\n"
      ],
      "execution_count": null,
      "outputs": [
        {
          "output_type": "stream",
          "text": [
            "Collecting PyPortfolioOpt\n",
            "\u001b[?25l  Downloading https://files.pythonhosted.org/packages/f9/19/1f903f95e2acb95dc4b4275278a7b9f0b2cdae387d815d6219ffb46d6576/PyPortfolioOpt-1.2.7-py3-none-any.whl (48kB)\n",
            "\r\u001b[K     |██████▊                         | 10kB 16.8MB/s eta 0:00:01\r\u001b[K     |█████████████▍                  | 20kB 22.7MB/s eta 0:00:01\r\u001b[K     |████████████████████▏           | 30kB 18.8MB/s eta 0:00:01\r\u001b[K     |██████████████████████████▉     | 40kB 14.1MB/s eta 0:00:01\r\u001b[K     |████████████████████████████████| 51kB 4.3MB/s \n",
            "\u001b[?25hRequirement already satisfied: numpy<2.0,>=1.12 in /usr/local/lib/python3.6/dist-packages (from PyPortfolioOpt) (1.18.5)\n",
            "Requirement already satisfied: pandas>=0.19 in /usr/local/lib/python3.6/dist-packages (from PyPortfolioOpt) (1.1.4)\n",
            "Requirement already satisfied: cvxpy<2.0,>=1.0 in /usr/local/lib/python3.6/dist-packages (from PyPortfolioOpt) (1.0.31)\n",
            "Requirement already satisfied: cvxopt<2.0,>=1.2 in /usr/local/lib/python3.6/dist-packages (from PyPortfolioOpt) (1.2.5)\n",
            "Requirement already satisfied: scipy<2.0,>=1.3 in /usr/local/lib/python3.6/dist-packages (from PyPortfolioOpt) (1.4.1)\n",
            "Requirement already satisfied: python-dateutil>=2.7.3 in /usr/local/lib/python3.6/dist-packages (from pandas>=0.19->PyPortfolioOpt) (2.8.1)\n",
            "Requirement already satisfied: pytz>=2017.2 in /usr/local/lib/python3.6/dist-packages (from pandas>=0.19->PyPortfolioOpt) (2018.9)\n",
            "Requirement already satisfied: ecos>=2 in /usr/local/lib/python3.6/dist-packages (from cvxpy<2.0,>=1.0->PyPortfolioOpt) (2.0.7.post1)\n",
            "Requirement already satisfied: osqp>=0.4.1 in /usr/local/lib/python3.6/dist-packages (from cvxpy<2.0,>=1.0->PyPortfolioOpt) (0.6.1)\n",
            "Requirement already satisfied: scs>=1.1.3 in /usr/local/lib/python3.6/dist-packages (from cvxpy<2.0,>=1.0->PyPortfolioOpt) (2.1.2)\n",
            "Requirement already satisfied: multiprocess in /usr/local/lib/python3.6/dist-packages (from cvxpy<2.0,>=1.0->PyPortfolioOpt) (0.70.11.1)\n",
            "Requirement already satisfied: six>=1.5 in /usr/local/lib/python3.6/dist-packages (from python-dateutil>=2.7.3->pandas>=0.19->PyPortfolioOpt) (1.15.0)\n",
            "Requirement already satisfied: future in /usr/local/lib/python3.6/dist-packages (from osqp>=0.4.1->cvxpy<2.0,>=1.0->PyPortfolioOpt) (0.16.0)\n",
            "Requirement already satisfied: dill>=0.3.3 in /usr/local/lib/python3.6/dist-packages (from multiprocess->cvxpy<2.0,>=1.0->PyPortfolioOpt) (0.3.3)\n",
            "Installing collected packages: PyPortfolioOpt\n",
            "Successfully installed PyPortfolioOpt-1.2.7\n"
          ],
          "name": "stdout"
        }
      ]
    },
    {
      "cell_type": "code",
      "metadata": {
        "id": "KEgc_vzhL0rA"
      },
      "source": [
        "from pypfopt.efficient_frontier import EfficientFrontier\n",
        "from pypfopt import risk_models\n",
        "from pypfopt import expected_returns"
      ],
      "execution_count": null,
      "outputs": []
    },
    {
      "cell_type": "code",
      "metadata": {
        "colab": {
          "base_uri": "https://localhost:8080/"
        },
        "id": "zcA1EtJvMN1W",
        "outputId": "39ba7bfe-f67b-4319-c2c9-c0ce0c9f0dcc"
      },
      "source": [
        "#Optimization\n",
        "\n",
        "mu = expected_returns.mean_historical_return(df)\n",
        "S = risk_models.sample_cov(df)\n",
        "\n",
        "# sharpe ratio - excess return for risk involved\n",
        "\n",
        "ef =EfficientFrontier(mu,S)\n",
        "weights =ef.max_sharpe()\n",
        "c_weights= ef.clean_weights()\n",
        "print(c_weights)\n",
        "ef.portfolio_performance(verbose=True)\n"
      ],
      "execution_count": null,
      "outputs": [
        {
          "output_type": "stream",
          "text": [
            "OrderedDict([('ITC.NS', 0.47506), ('ONGC.NS', 0.15136), ('ADANIPOWER.NS', 0.3469), ('INFY.NS', 0.02668), ('SBIN.NS', 0.0)])\n",
            "Expected annual return: 5525.8%\n",
            "Annual volatility: 30.1%\n",
            "Sharpe Ratio: 183.74\n"
          ],
          "name": "stdout"
        },
        {
          "output_type": "execute_result",
          "data": {
            "text/plain": [
              "(55.25842537105549, 0.30062574693291993, 183.7448253671403)"
            ]
          },
          "metadata": {
            "tags": []
          },
          "execution_count": 39
        }
      ]
    },
    {
      "cell_type": "code",
      "metadata": {
        "id": "Xm8RX8JfM5DW"
      },
      "source": [
        ""
      ],
      "execution_count": null,
      "outputs": []
    }
  ]
}